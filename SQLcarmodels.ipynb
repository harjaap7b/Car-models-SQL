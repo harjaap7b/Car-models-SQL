{
  "nbformat": 4,
  "nbformat_minor": 0,
  "metadata": {
    "colab": {
      "provenance": []
    },
    "kernelspec": {
      "name": "python3",
      "display_name": "Python 3"
    },
    "language_info": {
      "name": "python"
    }
  },
  "cells": [
    {
      "cell_type": "markdown",
      "source": [
        "# Examining the data of Car Model store\n",
        "\n",
        "In this project I will be using SQL and Python libraries to draw out a picture of the data of car model store.\n",
        "We will see what the company can do to get the most out of their investments. We will be looking at the customer data to see what customers spend the most and the least as well as geographical data to see what countries give the best opportunity for growth. This will help draw out an accurate picture of companies statistics."
      ],
      "metadata": {
        "id": "na2SUxCzI8A7"
      }
    },
    {
      "cell_type": "code",
      "execution_count": null,
      "metadata": {
        "id": "qzzdy1aUeZWJ"
      },
      "outputs": [],
      "source": [
        "import sqlite3\n",
        "import pandas as pd\n",
        "\n",
        "conn = sqlite3.connect('stores.db')"
      ]
    },
    {
      "cell_type": "code",
      "source": [
        "# first we just layout all the sub databases and their attributes inside the main database to get an accurate picture\n",
        "q1 = pd.read_sql('''SELECT 'customers' AS table_name, 13 AS num_of_attributes, count(*) AS num_of_rows FROM customers\n",
        "                  UNION ALL\n",
        "                  SELECT 'products' AS table_name, 9 AS num_of_attributes, count(*) AS num_of_rows FROM products\n",
        "                  UNION ALL\n",
        "                  SELECT 'productlines' AS table_name, 4 AS num_of_attributes, count(*) AS num_of_rows FROM productlines\n",
        "                  UNION All\n",
        "                  SELECT 'orders' AS table_name, 7 AS num_of_attributes, count(*) AS num_of_rows FROM orders\n",
        "                  UNION ALL\n",
        "                  SELECT 'orderdetails' AS table_name, 5 AS num_of_attributes, count(*) AS num_of_rows FROM orderdetails\n",
        "                  UNION ALL\n",
        "                  SELECT 'payments' AS table_name, 4 AS num_of_attributes, count(*) AS num_of_rows FROM payments\n",
        "                  UNION ALL\n",
        "                  SELECT 'employees' AS table_name, 8 AS num_of_attributes, count(*) AS num_of_rows FROM employees\n",
        "                  UNION ALL\n",
        "                  SELECT 'offices' AS table_name, 9 AS num_of_attributes, count(*) AS num_of_rows FROM offices''', conn)\n",
        "print(q1)"
      ],
      "metadata": {
        "colab": {
          "base_uri": "https://localhost:8080/"
        },
        "id": "kyPQ7PGIfCyp",
        "outputId": "39387ed8-b625-4609-abc2-9805a423f84c"
      },
      "execution_count": null,
      "outputs": [
        {
          "output_type": "stream",
          "name": "stdout",
          "text": [
            "     table_name  num_of_attributes  num_of_rows\n",
            "0     customers                 13          122\n",
            "1      products                  9          110\n",
            "2  productlines                  4            7\n",
            "3        orders                  7          326\n",
            "4  orderdetails                  5         2996\n",
            "5      payments                  4          273\n",
            "6     employees                  8           23\n",
            "7       offices                  9            7\n"
          ]
        }
      ]
    },
    {
      "cell_type": "code",
      "source": [
        "# Low stock products\n",
        "q2 = '''SELECT ROUND(Sum(quantityOrdered)/(SELECT quantityInStock\n",
        "\t\t\t\t\t\t\t\t\tFROM  products p\n",
        "\t\t\t\t\t\t\t\t\tWHERE od.productCode=p.productCode),2) AS low_stock, productCode\n",
        "                  FROM  orderdetails od\n",
        "                  GROUP BY productCode\n",
        "                  ORDER BY low_stock DESC\n",
        "                  LIMIT 10'''\n",
        "results = pd.read_sql_query(q2,conn)\n",
        "print(results)"
      ],
      "metadata": {
        "colab": {
          "base_uri": "https://localhost:8080/"
        },
        "id": "eqJM2B0LjjpQ",
        "outputId": "8e2fa02d-76d7-45d5-c1eb-5efc8757d9e3"
      },
      "execution_count": null,
      "outputs": [
        {
          "output_type": "stream",
          "name": "stdout",
          "text": [
            "   low_stock productCode\n",
            "0       67.0    S24_2000\n",
            "1       13.0    S12_1099\n",
            "2        7.0    S32_4289\n",
            "3        5.0    S32_1374\n",
            "4        2.0    S72_3212\n",
            "5        1.0   S700_3167\n",
            "6        1.0   S700_1938\n",
            "7        1.0    S50_4713\n",
            "8        1.0    S32_3522\n",
            "9        1.0    S18_2795\n"
          ]
        }
      ]
    },
    {
      "cell_type": "code",
      "source": [
        "# also lets see the best performing products\n",
        "q3 = '''SELECT SUM(quantityOrdered*priceEach) AS prod_perfor, productCode\n",
        "FROM orderdetails od\n",
        "GROUP BY productCode\n",
        "ORDER BY prod_perfor DESC\n",
        "LIMIT 10'''\n",
        "results = pd.read_sql_query(q3,conn)\n",
        "print(results)"
      ],
      "metadata": {
        "colab": {
          "base_uri": "https://localhost:8080/"
        },
        "id": "QoKkPoaXkXH8",
        "outputId": "9616affe-97d9-421d-aead-8d5056d2864c"
      },
      "execution_count": null,
      "outputs": [
        {
          "output_type": "stream",
          "name": "stdout",
          "text": [
            "   prod_perfor productCode\n",
            "0    276839.98    S18_3232\n",
            "1    190755.86    S12_1108\n",
            "2    190017.96    S10_1949\n",
            "3    170686.00    S10_4698\n",
            "4    161531.48    S12_1099\n",
            "5    152543.02    S12_3891\n",
            "6    144959.91    S18_1662\n",
            "7    142530.63    S18_2238\n",
            "8    140535.60    S18_1749\n",
            "9    135767.03    S12_2823\n"
          ]
        }
      ]
    },
    {
      "cell_type": "code",
      "source": [
        "# now we can group q2 and q3 to find the products which are the most popular\n",
        "q4 = '''WITH low_stock_products AS (\n",
        "SELECT ROUND(Sum(quantityOrdered)/(SELECT quantityInStock\n",
        "\t\t\t\t\t\t\t\t\tFROM  products p\n",
        "\t\t\t\t\t\t\t\t\tWHERE od.productCode=p.productCode),2) AS low_stock, productCode\n",
        "FROM  orderdetails od\n",
        "GROUP BY productCode\n",
        "ORDER BY low_stock DESC\n",
        "LIMIT 10\n",
        "),\n",
        "priority_products AS (\n",
        "SELECT SUM(quantityOrdered*priceEach) AS prod_perfor, productCode\n",
        "FROM orderdetails od\n",
        "WHERE productCode IN (SELECT productCode\n",
        "\t\t\t\t\t\tFROM low_stock_products)\n",
        "GROUP BY productCode\n",
        "ORDER BY prod_perfor DESC\n",
        "LIMIT 10\n",
        ")\n",
        "SELECT productName, productLine\n",
        "FROM products p\n",
        "WHERE productCode IN (SELECT productCode\n",
        "\t\t\t\t\t\tFROM priority_products)'''\n",
        "results = pd.read_sql_query(q4,conn)\n",
        "print(results)"
      ],
      "metadata": {
        "colab": {
          "base_uri": "https://localhost:8080/"
        },
        "id": "r1NJCiJikgZ-",
        "outputId": "7888bf42-30d3-4fed-9a66-4dfca335dc1d"
      },
      "execution_count": null,
      "outputs": [
        {
          "output_type": "stream",
          "name": "stdout",
          "text": [
            "                                   productName       productLine\n",
            "0                            1968 Ford Mustang      Classic Cars\n",
            "1                       1928 Mercedes-Benz SSK      Vintage Cars\n",
            "2                     1960 BSA Gold Star DBD34       Motorcycles\n",
            "3                             1997 BMW F650 ST       Motorcycles\n",
            "4  1996 Peterbilt 379 Stake Bed with Outrigger  Trucks and Buses\n",
            "5                     1928 Ford Phaeton Deluxe      Vintage Cars\n",
            "6                           2002 Yamaha YZR M1       Motorcycles\n",
            "7                                The Mayflower             Ships\n",
            "8                           F/A 18 Hornet 1/72            Planes\n",
            "9                                   Pont Yacht             Ships\n"
          ]
        }
      ]
    },
    {
      "cell_type": "code",
      "source": [
        "# We can also find the VIP clients, clients who spend the most\n",
        "q5 = '''WITH customer_profit AS (\n",
        "SELECT o.customerNumber AS customer_number, Sum(od.quantityOrdered*(od.priceEach-p.buyPrice)) AS profit\n",
        "FROM products p\n",
        "JOIN orderdetails od\n",
        "ON p.productCode=od.productCode\n",
        "JOIN orders o\n",
        "ON od.orderNumber=o.orderNumber\n",
        "GROUP BY o.customerNumber\n",
        "LIMIT 5\n",
        ")\n",
        "SELECT c.contactLastName, c.contactFirstName, c.city, c.country, cp.profit\n",
        "FROM customers c\n",
        "JOIN customer_profit cp\n",
        "ON  c.customerNumber=cp.customer_number\n",
        "ORDER BY cp.profit DESC\n",
        "LIMIT 5'''\n",
        "results = pd.read_sql_query(q5,conn)\n",
        "print(results)"
      ],
      "metadata": {
        "colab": {
          "base_uri": "https://localhost:8080/"
        },
        "id": "BoATLGh6lwhm",
        "outputId": "6d5b61ac-e417-402a-f296-c35a1ff0d16d"
      },
      "execution_count": null,
      "outputs": [
        {
          "output_type": "stream",
          "name": "stdout",
          "text": [
            "  contactLastName contactFirstName       city    country    profit\n",
            "0        Ferguson            Peter  Melbourne  Australia  70311.07\n",
            "1         Labrune          Janine      Nantes     France  60875.30\n",
            "2      Bergulfsen           Jonas     Stavern     Norway  41391.52\n",
            "3            King             Jean  Las Vegas        USA  31312.72\n",
            "4         Schmitt          Carine      Nantes     France  10063.80\n"
          ]
        }
      ]
    },
    {
      "cell_type": "code",
      "source": [
        "# Now the least profitable customers\n",
        "q6 = '''WITH customer_profit AS (\n",
        "SELECT o.customerNumber AS customer_number, Sum(od.quantityOrdered*(od.priceEach-p.buyPrice)) AS profit\n",
        "FROM products p\n",
        "JOIN orderdetails od\n",
        "ON p.productCode=od.productCode\n",
        "JOIN orders o\n",
        "ON od.orderNumber=o.orderNumber\n",
        "GROUP BY o.customerNumber\n",
        ")\n",
        "SELECT c.contactLastName, c.contactFirstName, c.city, c.country, cp.profit\n",
        "FROM customers c\n",
        "JOIN customer_profit cp\n",
        "ON  c.customerNumber=cp.customer_number\n",
        "ORDER BY cp.profit\n",
        "LIMIT 5'''\n",
        "results = pd.read_sql_query(q6,conn)\n",
        "print(results)"
      ],
      "metadata": {
        "colab": {
          "base_uri": "https://localhost:8080/"
        },
        "id": "fwGMXtNSmjn5",
        "outputId": "67b09baa-8d36-4bb7-a662-da20412b62e8"
      },
      "execution_count": null,
      "outputs": [
        {
          "output_type": "stream",
          "name": "stdout",
          "text": [
            "  contactLastName contactFirstName        city country    profit\n",
            "0           Young             Mary    Glendale     USA   2610.87\n",
            "1          Taylor           Leslie  Brickhaven     USA   6586.02\n",
            "2         Ricotti           Franco       Milan   Italy   9532.93\n",
            "3         Schmitt          Carine       Nantes  France  10063.80\n",
            "4           Smith          Thomas       London      UK  10868.04\n"
          ]
        }
      ]
    },
    {
      "cell_type": "code",
      "source": [
        "# we can also determine the customer lifetime average, that is the average amount a customer spends on products\n",
        "q7 = '''WITH LTV_table AS (\n",
        "SELECT o.customerNumber AS customer_number, Sum(od.quantityOrdered*(od.priceEach-p.buyPrice)) AS profit\n",
        "FROM products p\n",
        "JOIN orderdetails od\n",
        "ON p.productCode=od.productCode\n",
        "JOIN orders o\n",
        "ON od.orderNumber=o.orderNumber\n",
        "GROUP BY o.customerNumber\n",
        ")\n",
        "SELECT AVG(ltv.profit) AS lifetime_average, c.contactLastName AS last_name, c.contactFirstName AS first_name\n",
        "FROM LTV_table AS ltv\n",
        "JOIN customers AS c\n",
        "ON ltv.customer_number = c.customerNumber\n",
        "GROUP BY ltv.customer_number\n",
        "ORDER BY lifetime_average DESC\n",
        "LIMIT 10'''\n",
        "results = pd.read_sql_query(q7,conn)\n",
        "print(results)"
      ],
      "metadata": {
        "colab": {
          "base_uri": "https://localhost:8080/"
        },
        "id": "_qvCBxEjmyPT",
        "outputId": "91e142eb-914d-4722-903d-216c71951672"
      },
      "execution_count": null,
      "outputs": [
        {
          "output_type": "stream",
          "name": "stdout",
          "text": [
            "   lifetime_average  last_name first_name\n",
            "0         326519.66     Freyre     Diego \n",
            "1         236769.39     Nelson      Susan\n",
            "2          72370.09      Young       Jeff\n",
            "3          70311.07   Ferguson      Peter\n",
            "4          60875.30    Labrune    Janine \n",
            "5          60477.38  Natividad       Eric\n",
            "6          60095.86   Ashworth     Rachel\n",
            "7          60013.99     Graham       Mike\n",
            "8          58669.10        Lee       Kwai\n",
            "9          55931.37      Frick        Sue\n"
          ]
        }
      ]
    },
    {
      "cell_type": "code",
      "source": [
        "# And the overall LTV average of all customers\n",
        "q8 ='''WITH LTV_table AS (\n",
        "SELECT o.customerNumber AS customer_number, Sum(od.quantityOrdered*(od.priceEach-p.buyPrice)) AS profit\n",
        "FROM products p\n",
        "JOIN orderdetails od\n",
        "ON p.productCode=od.productCode\n",
        "JOIN orders o\n",
        "ON od.orderNumber=o.orderNumber\n",
        "GROUP BY o.customerNumber\n",
        ")\n",
        "SELECT ROUND(AVG(ltv.profit),2) AS ltv\n",
        "FROM LTV_table AS ltv'''\n",
        "results = pd.read_sql_query(q8,conn)\n",
        "print(results)"
      ],
      "metadata": {
        "colab": {
          "base_uri": "https://localhost:8080/"
        },
        "id": "QXVqggu0nZe8",
        "outputId": "6a8b666a-fd75-4ff3-95f8-0037b98eea8a"
      },
      "execution_count": null,
      "outputs": [
        {
          "output_type": "stream",
          "name": "stdout",
          "text": [
            "        ltv\n",
            "0  39039.59\n"
          ]
        }
      ]
    },
    {
      "cell_type": "markdown",
      "source": [
        "So overhere we determined the customer lifetime average to be around\n",
        "39039 USD, in other words an average customer spends around 39039 USD\n",
        "on products. So if we get around 10 new customers we can expect to make around\n",
        "390,395 USD and based on this we can think of how much money to invest\n",
        "to get more customers"
      ],
      "metadata": {
        "id": "nqVopOmlnt05"
      }
    },
    {
      "cell_type": "code",
      "source": [
        "# we can also determine the average profit all countries the store sells in\n",
        "q10='''\n",
        "WITH CountryProfit AS (\n",
        "    SELECT\n",
        "        c.country AS country,\n",
        "        SUM(od.quantityOrdered * (od.priceEach - p.buyPrice)) AS total_profit\n",
        "    FROM products p\n",
        "    JOIN orderdetails od ON p.productCode = od.productCode\n",
        "    JOIN orders o ON od.orderNumber = o.orderNumber\n",
        "    JOIN customers c ON o.customerNumber = c.customerNumber\n",
        "    GROUP BY c.country\n",
        ")\n",
        "SELECT ROUND(AVG(total_profit), 2) AS Avg_profit\n",
        "FROM CountryProfit'''\n",
        "results = pd.read_sql_query(q10,conn)\n",
        "print(results)\n"
      ],
      "metadata": {
        "colab": {
          "base_uri": "https://localhost:8080/"
        },
        "id": "Lvhv0HVN05FN",
        "outputId": "ee2cd8f6-363a-42a4-81ed-83d4b0df603d"
      },
      "execution_count": null,
      "outputs": [
        {
          "output_type": "stream",
          "name": "stdout",
          "text": [
            "   Avg_profit\n",
            "0   173903.65\n"
          ]
        }
      ]
    },
    {
      "cell_type": "code",
      "source": [
        "# now lets determine the profit per country and visualize, comparing it to the average computed above to get a better idea\n",
        "import matplotlib.pyplot as plt\n",
        "q9 =  '''\n",
        "WITH CountryProfit AS (\n",
        "    SELECT\n",
        "        c.country AS country,\n",
        "        SUM(od.quantityOrdered * (od.priceEach - p.buyPrice)) AS total_profit\n",
        "    FROM products p\n",
        "    JOIN orderdetails od ON p.productCode = od.productCode\n",
        "    JOIN orders o ON od.orderNumber = o.orderNumber\n",
        "    JOIN customers c ON o.customerNumber = c.customerNumber\n",
        "    GROUP BY c.country\n",
        ")\n",
        "SELECT\n",
        "    country,\n",
        "    ROUND(AVG(total_profit), 2) AS profit\n",
        "FROM CountryProfit\n",
        "GROUP BY country\n",
        "ORDER BY profit DESC\n",
        "'''\n",
        "results = pd.read_sql_query(q9,conn)\n",
        "import matplotlib.pyplot as plt\n",
        "plt.bar(results['country'], results['profit'])\n",
        "plt.xlabel('Country')\n",
        "plt.ylabel('Profit (USD)')\n",
        "plt.title('Profit by Country')\n",
        "plt.xticks(rotation=90, fontsize=8)\n",
        "import numpy as np\n",
        "plt.axhline(y=np.mean(results['profit']), color='r', linestyle='--', linewidth=2, label=f'Average Profit {np.mean(results[\"profit\"]):.2f}')\n",
        "plt.legend()\n",
        "plt.show()"
      ],
      "metadata": {
        "colab": {
          "base_uri": "https://localhost:8080/",
          "height": 531
        },
        "id": "zRR4M7k728LD",
        "outputId": "798a5a13-c4ca-483d-9727-cf386f8c0847"
      },
      "execution_count": null,
      "outputs": [
        {
          "output_type": "display_data",
          "data": {
            "text/plain": [
              "<Figure size 640x480 with 1 Axes>"
            ],
            "image/png": "[encoded data removed]"
          },
          "metadata": {}
        }
      ]
    },
    {
      "cell_type": "markdown",
      "source": [
        "We can also examine the per captia average of profit by country, in other words the profit each country makes per capita as opposed to the overall average as given above."
      ],
      "metadata": {
        "id": "vxv0T_DR9gRK"
      }
    },
    {
      "cell_type": "code",
      "source": [
        "# examine the average profit per customer per  all countries\n",
        "q10 = '''WITH LTV_table AS (\n",
        "SELECT o.customerNumber AS customer_number, Sum(od.quantityOrdered*(od.priceEach-p.buyPrice)) AS profit\n",
        "FROM products p\n",
        "JOIN orderdetails od\n",
        "ON p.productCode=od.productCode\n",
        "JOIN orders o\n",
        "ON od.orderNumber=o.orderNumber\n",
        "GROUP BY o.customerNumber\n",
        "),\n",
        "avg_country_profit AS (\n",
        "SELECT ROUND(AVG(ltv.profit),2) AS lifetime_average_per_country, c.country AS country\n",
        "FROM LTV_table AS ltv\n",
        "JOIN customers AS c\n",
        "ON ltv.customer_number = c.customerNumber\n",
        "GROUP BY c.country\n",
        "ORDER BY lifetime_average_per_country DESC\n",
        ")\n",
        "SELECT ROUND(AVG(lifetime_average_per_country),2) AS avg_total_percaptia\n",
        "FROM avg_country_profit; '''\n",
        "results = pd.read_sql_query(q10,conn)\n",
        "print(results)"
      ],
      "metadata": {
        "id": "DNLliJu63NWX",
        "colab": {
          "base_uri": "https://localhost:8080/"
        },
        "outputId": "1805d2bc-9725-4c5b-f3a4-6204b0c01a4a"
      },
      "execution_count": null,
      "outputs": [
        {
          "output_type": "stream",
          "name": "stdout",
          "text": [
            "   avg_total_percaptia\n",
            "0             37400.32\n"
          ]
        }
      ]
    },
    {
      "cell_type": "code",
      "source": [
        "# lets visualize the results above\n",
        "q11 = '''WITH LTV_table AS (\n",
        "SELECT o.customerNumber AS customer_number, Sum(od.quantityOrdered*(od.priceEach-p.buyPrice)) AS profit\n",
        "FROM products p\n",
        "JOIN orderdetails od\n",
        "ON p.productCode=od.productCode\n",
        "JOIN orders o\n",
        "ON od.orderNumber=o.orderNumber\n",
        "GROUP BY o.customerNumber\n",
        ")\n",
        "SELECT ROUND(AVG(ltv.profit),2) AS lifetime_average_per_country, c.country AS country\n",
        "FROM LTV_table AS ltv\n",
        "JOIN customers AS c\n",
        "ON ltv.customer_number = c.customerNumber\n",
        "GROUP BY c.country\n",
        "ORDER BY lifetime_average_per_country DESC'''\n",
        "results = pd.read_sql_query(q11,conn)\n",
        "plt.bar(results['country'],results['lifetime_average_per_country'])\n",
        "plt.xlabel('Country')\n",
        "plt.ylabel('profit per capita (USD)')\n",
        "plt.title('Profit per customer per country')\n",
        "plt.xticks(rotation=90, fontsize=8)\n",
        "plt.axhline(y=np.mean(results['lifetime_average_per_country']), color='r', linestyle='--', linewidth=2, label=f'Average Profit {np.mean(results[\"lifetime_average_per_country\"]):.2f}')\n",
        "plt.legend()\n",
        "plt.show()"
      ],
      "metadata": {
        "colab": {
          "base_uri": "https://localhost:8080/",
          "height": 531
        },
        "id": "A6PoYJdkAZg5",
        "outputId": "d093fe14-56dc-4861-89d3-e528c1a2c64b"
      },
      "execution_count": null,
      "outputs": [
        {
          "output_type": "display_data",
          "data": {
            "text/plain": [
              "<Figure size 640x480 with 1 Axes>"
            ],
            "image/png": "[encoded data removed]"
          },
          "metadata": {}
        }
      ]
    },
    {
      "cell_type": "code",
      "source": [
        "conn.close()"
      ],
      "metadata": {
        "id": "s5A5pSwMQ-AB"
      },
      "execution_count": null,
      "outputs": []
    },
    {
      "cell_type": "markdown",
      "source": [
        "# Conclusion\n",
        "\n",
        "So looking at the data for the model car store we can determine a lot of things.\n",
        "1. The top 3 performing products were the 1968 Ford Mustang, then 1928 Mercedes Benz SSK, and finally the 1960 BSA Gold Star DBD34. Looking at the trend we can determine that vintage models are much more popular among people so the store should invest more money into vintage products, in order to get the highest return on investment.\n",
        "2. The top 3 customers were Peter Freguson, Janine Labrune, and Jonas Begulfsen so the in would be in the stores best interest to ask them about thier preferences and what they value about this store and use that as a model to build better relations with more customers. While opinions of the bottom 3 should also be considered to ask about what can be done better.\n",
        "3. The final conclusion is related to how the store can benefit geographically. Analysis shows that USA is the most profitable country, with the graph being heavily skewed towards USA. The USA with over a million dollars in profit from that country alone. This makes sense since the company is headqautered in The USA. So it would make sense to invest most in The USA. Although we also see that Spain, France and Australia are also above the average line on ~173,000 USD. Regarding the countries with bring profit below average we should have stronger marketing campaigns there to bring more clients and awareness. The last graph shows that Spain out performs all other countries meaning clients of Spain on average spend more or buy the more expensive products compared to other countries even The USA. Where USA sits aroud the average of ~37,400 USD. Although countries like Singapore, New Zealand, Austrlaia, Norway and Denmark also well above average so the company should invest in marketing on average more expensive products there.  "
      ],
      "metadata": {
        "id": "soQr5fprC0MF"
      }
    }
  ]
}